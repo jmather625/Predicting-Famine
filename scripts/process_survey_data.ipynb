{
 "cells": [
  {
   "cell_type": "markdown",
   "metadata": {},
   "source": [
    "Make sure you download the 2016 Household LSMS survey data for Malawi from https://microdata.worldbank.org/index.php/catalog/lsms and put it in `../data/countries/malawi_2016/LSMS`."
   ]
  },
  {
   "cell_type": "code",
   "execution_count": 2,
   "metadata": {},
   "outputs": [],
   "source": [
    "import pandas as pd\n",
    "import numpy as np\n",
    "import os"
   ]
  },
  {
   "cell_type": "code",
   "execution_count": 3,
   "metadata": {},
   "outputs": [],
   "source": [
    "BASE_DIR = '..'\n",
    "COUNTRY = 'malawi_2016'\n",
    "COUNTRIES_DIR = os.path.join(BASE_DIR, 'data', 'countries')"
   ]
  },
  {
   "cell_type": "code",
   "execution_count": 4,
   "metadata": {},
   "outputs": [],
   "source": [
    "import sys\n",
    "sys.path.append(BASE_DIR)\n",
    "from utils import create_space"
   ]
  },
  {
   "cell_type": "code",
   "execution_count": 5,
   "metadata": {},
   "outputs": [],
   "source": [
    "'''\n",
    "The goal of each of a processor function is to output a dataframe with the following columns:\n",
    "country, cluster_lat, cluster_lon, rCSI, FCS, HDDS\n",
    "\n",
    "Each row should represent one cluster by combining the household data\n",
    "'''\n",
    "\n",
    "def process_malawi():\n",
    "    lsms_dir = os.path.join(COUNTRIES_DIR, COUNTRY, 'LSMS')\n",
    "    geovariables_file = 'HouseholdGeovariables_csv/HouseholdGeovariablesIHS4.csv'\n",
    "    rcsi_file = 'hh_mod_h.csv'\n",
    "    fcs_hdds_file = 'hh_mod_g2.csv'\n",
    "    \n",
    "    lat_col = 'lat_modified'\n",
    "    lon_col = 'lon_modified'\n",
    "    \n",
    "    for file in [geovariables_file, rcsi_file, fcs_hdds_file]:\n",
    "        assert os.path.isfile(os.path.join(lsms_dir, file)), print(f'Could not find {file}')\n",
    "        \n",
    "    # latitude and longitude\n",
    "    df_geo = pd.read_csv(os.path.join(lsms_dir, geovariables_file))\n",
    "    df_geo['cluster_lat'] = df_geo[lat_col]\n",
    "    df_geo['cluster_lon'] = df_geo[lon_col]\n",
    "    df_geo = df_geo[['case_id', 'cluster_lat', 'cluster_lon']]\n",
    "    df_geo.dropna(inplace=True)\n",
    "    \n",
    "    # rCSI info\n",
    "    df_rcsi = pd.read_csv(os.path.join(lsms_dir, 'hh_mod_h.csv'))\n",
    "    df_rcsi = df_rcsi[['case_id', 'hh_h01', 'hh_h02a', 'hh_h02b', 'hh_h02c', 'hh_h02d', 'hh_h02e']]\n",
    "    df_rcsi.dropna(inplace=True)\n",
    "    df_rcsi['rCSI'] = 1*df_rcsi['hh_h02a'] + 1*df_rcsi['hh_h02b'] + \\\n",
    "                        2*df_rcsi['hh_h02c'] + 2*df_rcsi['hh_h02d'] +2*df_rcsi['hh_h02e']\n",
    "    df_rcsi['rCSI'].loc[df_rcsi['rCSI'] > 42] = 42\n",
    "    \n",
    "    # FCSI and HDDS info\n",
    "    df_fcs_hdds = pd.read_csv(os.path.join(COUNTRIES_DIR, COUNTRY, 'LSMS', 'hh_mod_g2.csv'))\n",
    "    df_fcs_hdds = df_fcs_hdds[['case_id', 'hh_g08a', 'hh_g08b', 'hh_g08c', 'hh_g08d', \n",
    "             'hh_g08e', 'hh_g08f', 'hh_g08g', 'hh_g08h', 'hh_g08i', 'hh_g08j']]\n",
    "    df_fcs_hdds.dropna(inplace=True)\n",
    "    # this chooses the max of hh_g08a and hh_g08b per row\n",
    "    hh_staple = df_fcs_hdds['hh_g08a'].copy()\n",
    "    idx = df_fcs_hdds['hh_g08a'] < df_fcs_hdds['hh_g08b']\n",
    "    hh_staple.loc[idx] = df_fcs_hdds['hh_g08b'].loc[idx]\n",
    "    df_fcs_hdds['FCS'] =  2*hh_staple + 3*df_fcs_hdds['hh_g08c'] + 1*df_fcs_hdds['hh_g08d'] + \\\n",
    "            4*df_fcs_hdds['hh_g08e'] + 1*df_fcs_hdds['hh_g08f'] + 4*df_fcs_hdds['hh_g08g'] + \\\n",
    "            0.5*df_fcs_hdds['hh_g08h'] + 0.5*df_fcs_hdds['hh_g08i']\n",
    "    hdds_cereals = (hh_staple > 0).astype(int)\n",
    "    hdds_c = (df_fcs_hdds['hh_g08c'] > 0).astype(int)\n",
    "    hdds_d = (df_fcs_hdds['hh_g08d'] > 0).astype(int)\n",
    "    hdds_e = (df_fcs_hdds['hh_g08e'] > 0).astype(int)\n",
    "    hdds_f = (df_fcs_hdds['hh_g08f'] > 0).astype(int)\n",
    "    hdds_g = (df_fcs_hdds['hh_g08g'] > 0).astype(int)\n",
    "    df_fcs_hdds['HDDS'] = hdds_cereals + hdds_c + hdds_d + hdds_e + hdds_f + hdds_g\n",
    "    df_fcs_hdds = df_fcs_hdds[['case_id', 'FCS', 'HDDS']]\n",
    "    \n",
    "    df_combined = pd.merge(df_geo, df_rcsi, on='case_id', how='inner')\n",
    "    df_combined = pd.merge(df_combined, df_fcs_hdds, on='case_id', how='inner')\n",
    "    df_combined.drop(['case_id'], axis=1, inplace=True)\n",
    "    # averages metric per household per cluster\n",
    "    df_clusters = df_combined.groupby(['cluster_lat', 'cluster_lon']).mean().reset_index()\n",
    "    df_clusters['country'] = 'malawi_2016'\n",
    "    return df_clusters"
   ]
  },
  {
   "cell_type": "code",
   "execution_count": 6,
   "metadata": {},
   "outputs": [
    {
     "name": "stderr",
     "output_type": "stream",
     "text": [
      "/opt/conda/envs/predicting-poverty-replication/lib/python3.7/site-packages/pandas/core/indexing.py:671: SettingWithCopyWarning: \n",
      "A value is trying to be set on a copy of a slice from a DataFrame\n",
      "\n",
      "See the caveats in the documentation: https://pandas.pydata.org/pandas-docs/stable/user_guide/indexing.html#returning-a-view-versus-a-copy\n",
      "  self._setitem_with_indexer(indexer, value)\n"
     ]
    }
   ],
   "source": [
    "df_mw = process_malawi()"
   ]
  },
  {
   "cell_type": "code",
   "execution_count": 7,
   "metadata": {},
   "outputs": [
    {
     "data": {
      "text/plain": [
       "(780, 12)"
      ]
     },
     "execution_count": 7,
     "metadata": {},
     "output_type": "execute_result"
    }
   ],
   "source": [
    "df_mw.shape"
   ]
  },
  {
   "cell_type": "code",
   "execution_count": 8,
   "metadata": {},
   "outputs": [
    {
     "data": {
      "text/html": [
       "<div>\n",
       "<style scoped>\n",
       "    .dataframe tbody tr th:only-of-type {\n",
       "        vertical-align: middle;\n",
       "    }\n",
       "\n",
       "    .dataframe tbody tr th {\n",
       "        vertical-align: top;\n",
       "    }\n",
       "\n",
       "    .dataframe thead th {\n",
       "        text-align: right;\n",
       "    }\n",
       "</style>\n",
       "<table border=\"1\" class=\"dataframe\">\n",
       "  <thead>\n",
       "    <tr style=\"text-align: right;\">\n",
       "      <th></th>\n",
       "      <th>cluster_lat</th>\n",
       "      <th>cluster_lon</th>\n",
       "      <th>hh_h01</th>\n",
       "      <th>hh_h02a</th>\n",
       "      <th>hh_h02b</th>\n",
       "      <th>hh_h02c</th>\n",
       "      <th>hh_h02d</th>\n",
       "      <th>hh_h02e</th>\n",
       "      <th>rCSI</th>\n",
       "      <th>FCS</th>\n",
       "      <th>HDDS</th>\n",
       "      <th>country</th>\n",
       "    </tr>\n",
       "  </thead>\n",
       "  <tbody>\n",
       "    <tr>\n",
       "      <th>0</th>\n",
       "      <td>-17.095150</td>\n",
       "      <td>35.217213</td>\n",
       "      <td>1.0000</td>\n",
       "      <td>4.1250</td>\n",
       "      <td>3.8125</td>\n",
       "      <td>3.5625</td>\n",
       "      <td>1.9375</td>\n",
       "      <td>1.3750</td>\n",
       "      <td>21.6875</td>\n",
       "      <td>33.71875</td>\n",
       "      <td>3.7500</td>\n",
       "      <td>malawi_2016</td>\n",
       "    </tr>\n",
       "    <tr>\n",
       "      <th>1</th>\n",
       "      <td>-17.092351</td>\n",
       "      <td>35.114643</td>\n",
       "      <td>1.1875</td>\n",
       "      <td>2.8125</td>\n",
       "      <td>2.6250</td>\n",
       "      <td>2.8750</td>\n",
       "      <td>2.0625</td>\n",
       "      <td>0.6875</td>\n",
       "      <td>16.4375</td>\n",
       "      <td>33.65625</td>\n",
       "      <td>3.5625</td>\n",
       "      <td>malawi_2016</td>\n",
       "    </tr>\n",
       "    <tr>\n",
       "      <th>2</th>\n",
       "      <td>-17.016698</td>\n",
       "      <td>35.079629</td>\n",
       "      <td>1.1250</td>\n",
       "      <td>2.1250</td>\n",
       "      <td>2.6250</td>\n",
       "      <td>3.1250</td>\n",
       "      <td>1.3750</td>\n",
       "      <td>1.6250</td>\n",
       "      <td>17.0000</td>\n",
       "      <td>42.21875</td>\n",
       "      <td>4.6250</td>\n",
       "      <td>malawi_2016</td>\n",
       "    </tr>\n",
       "    <tr>\n",
       "      <th>3</th>\n",
       "      <td>-16.977243</td>\n",
       "      <td>35.205706</td>\n",
       "      <td>1.1250</td>\n",
       "      <td>4.0625</td>\n",
       "      <td>2.0625</td>\n",
       "      <td>3.1875</td>\n",
       "      <td>1.5000</td>\n",
       "      <td>2.3125</td>\n",
       "      <td>20.1250</td>\n",
       "      <td>34.25000</td>\n",
       "      <td>4.5000</td>\n",
       "      <td>malawi_2016</td>\n",
       "    </tr>\n",
       "    <tr>\n",
       "      <th>4</th>\n",
       "      <td>-16.956385</td>\n",
       "      <td>35.168967</td>\n",
       "      <td>1.1875</td>\n",
       "      <td>3.9375</td>\n",
       "      <td>2.2500</td>\n",
       "      <td>2.4375</td>\n",
       "      <td>1.5625</td>\n",
       "      <td>0.0625</td>\n",
       "      <td>14.3125</td>\n",
       "      <td>33.25000</td>\n",
       "      <td>3.8750</td>\n",
       "      <td>malawi_2016</td>\n",
       "    </tr>\n",
       "  </tbody>\n",
       "</table>\n",
       "</div>"
      ],
      "text/plain": [
       "   cluster_lat  cluster_lon  hh_h01  hh_h02a  hh_h02b  hh_h02c  hh_h02d  \\\n",
       "0   -17.095150    35.217213  1.0000   4.1250   3.8125   3.5625   1.9375   \n",
       "1   -17.092351    35.114643  1.1875   2.8125   2.6250   2.8750   2.0625   \n",
       "2   -17.016698    35.079629  1.1250   2.1250   2.6250   3.1250   1.3750   \n",
       "3   -16.977243    35.205706  1.1250   4.0625   2.0625   3.1875   1.5000   \n",
       "4   -16.956385    35.168967  1.1875   3.9375   2.2500   2.4375   1.5625   \n",
       "\n",
       "   hh_h02e     rCSI       FCS    HDDS      country  \n",
       "0   1.3750  21.6875  33.71875  3.7500  malawi_2016  \n",
       "1   0.6875  16.4375  33.65625  3.5625  malawi_2016  \n",
       "2   1.6250  17.0000  42.21875  4.6250  malawi_2016  \n",
       "3   2.3125  20.1250  34.25000  4.5000  malawi_2016  \n",
       "4   0.0625  14.3125  33.25000  3.8750  malawi_2016  "
      ]
     },
     "execution_count": 8,
     "metadata": {},
     "output_type": "execute_result"
    }
   ],
   "source": [
    "df_mw.head()"
   ]
  },
  {
   "cell_type": "code",
   "execution_count": 9,
   "metadata": {},
   "outputs": [],
   "source": [
    "os.makedirs(os.path.join(COUNTRIES_DIR, COUNTRY, 'processed'), exist_ok=True)"
   ]
  },
  {
   "cell_type": "code",
   "execution_count": 10,
   "metadata": {},
   "outputs": [],
   "source": [
    "df_mw.to_csv(os.path.join(COUNTRIES_DIR, COUNTRY, 'processed', 'clusters.csv'), index=False)"
   ]
  },
  {
   "cell_type": "code",
   "execution_count": null,
   "metadata": {},
   "outputs": [],
   "source": []
  }
 ],
 "metadata": {
  "environment": {
   "name": "pytorch-gpu.1-4.m46",
   "type": "gcloud",
   "uri": "gcr.io/deeplearning-platform-release/pytorch-gpu.1-4:m46"
  },
  "kernelspec": {
   "display_name": "predicting-poverty-replication",
   "language": "python",
   "name": "predicting-poverty-replication"
  },
  "language_info": {
   "codemirror_mode": {
    "name": "ipython",
    "version": 3
   },
   "file_extension": ".py",
   "mimetype": "text/x-python",
   "name": "python",
   "nbconvert_exporter": "python",
   "pygments_lexer": "ipython3",
   "version": "3.7.6"
  }
 },
 "nbformat": 4,
 "nbformat_minor": 2
}
