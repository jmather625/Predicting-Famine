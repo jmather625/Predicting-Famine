{
 "cells": [
  {
   "cell_type": "markdown",
   "metadata": {},
   "source": [
    "Using the cluster_feats we will finally predict the metrics of interest. There are many ways to evaluate our results, I do the following: <br>\n",
    "1) randomized CV - use 5-fold cross validation randomly on all clusters, all countries <br>\n",
    "2) randomized CV per country - use 5-fold cross validation within a country for all countries <br>\n",
    "3) spatial CV per country - use 5-fold cross validation but folds consist of clusters that are geographically close <br>\n",
    "4) cross-country CV - we have three countries, so hold one country out and perform cross validation <br>"
   ]
  },
  {
   "cell_type": "code",
   "execution_count": 1,
   "metadata": {},
   "outputs": [],
   "source": [
    "import os\n",
    "import numpy as np\n",
    "import pandas as pd\n",
    "import pickle\n",
    "import matplotlib.pyplot as plt\n",
    "from sklearn.metrics import r2_score\n",
    "from scipy import stats"
   ]
  },
  {
   "cell_type": "code",
   "execution_count": 2,
   "metadata": {},
   "outputs": [],
   "source": [
    "BASE_DIR = '..'\n",
    "RANDOM_SEED = 7 # for reproducibility\n",
    "COUNTRIES_DIR = os.path.join(BASE_DIR, 'data', 'countries')\n",
    "COUNTRY = 'malawi_2016'\n",
    "\n",
    "PROCESSED_DIR = os.path.join(COUNTRIES_DIR, COUNTRY, 'processed')\n",
    "RESULTS_DIR = os.path.join(BASE_DIR, 'results', COUNTRY)\n",
    "FIGURES_DIR = os.path.join(BASE_DIR, 'figures', COUNTRY)"
   ]
  },
  {
   "cell_type": "code",
   "execution_count": 3,
   "metadata": {},
   "outputs": [],
   "source": [
    "import sys\n",
    "sys.path.append(BASE_DIR)\n",
    "from utils import merge_on_lat_lon, assign_groups, run_randomized_cv, run_spatial_cv, RidgeEnsemble"
   ]
  },
  {
   "cell_type": "code",
   "execution_count": 30,
   "metadata": {},
   "outputs": [],
   "source": [
    "os.makedirs(FIGURES_DIR, exist_ok=True)"
   ]
  },
  {
   "cell_type": "markdown",
   "metadata": {},
   "source": [
    "# Predict Consumption"
   ]
  },
  {
   "cell_type": "code",
   "execution_count": 4,
   "metadata": {},
   "outputs": [],
   "source": [
    "def load_data(metric):\n",
    "    '''\n",
    "    Loads the train/valid features and dataframes\n",
    "    '''\n",
    "    country_results_dir = os.path.join(RESULTS_DIR, metric, 'cnn')\n",
    "    country_processed_dir = os.path.join(COUNTRIES_DIR, COUNTRY, 'processed')\n",
    "    df_clusters = pd.read_csv(os.path.join(country_processed_dir, 'clusters.csv'))\n",
    "    \n",
    "    x_train = np.load(os.path.join(country_results_dir, f'cluster_feats_train_{metric}.npy'))\n",
    "    cluster_train = pickle.load(open(os.path.join(country_results_dir, f'cluster_order_train_{metric}.pkl'), 'rb'))\n",
    "    cluster_train = pd.DataFrame.from_records(cluster_train, columns=['cluster_lat', 'cluster_lon'])\n",
    "    cluster_train['feat_index'] = np.arange(len(cluster_train))\n",
    "    df_train = merge_on_lat_lon(df_clusters, cluster_train, keys=['cluster_lat', 'cluster_lon'])\n",
    "    df_train.sort_values('feat_index', ascending=True, inplace=True)\n",
    "    \n",
    "    x_valid = np.load(os.path.join(country_results_dir, f'cluster_feats_valid_{metric}.npy'))\n",
    "    cluster_valid = pickle.load(open(os.path.join(country_results_dir, f'cluster_order_valid_{metric}.pkl'), 'rb'))\n",
    "    cluster_valid = pd.DataFrame.from_records(cluster_valid, columns=['cluster_lat', 'cluster_lon'])\n",
    "    cluster_valid['feat_index'] = np.arange(len(cluster_valid))\n",
    "    df_valid = merge_on_lat_lon(df_clusters, cluster_valid, keys=['cluster_lat', 'cluster_lon'])\n",
    "    df_valid.sort_values('feat_index', ascending=True, inplace=True)\n",
    "    \n",
    "    assert len(cluster_train) + len(cluster_valid) == len(df_clusters)\n",
    "    assert len(df_train) + len(df_valid) == len(df_clusters)\n",
    "    return x_train, df_train, x_valid, df_valid"
   ]
  },
  {
   "cell_type": "code",
   "execution_count": 5,
   "metadata": {},
   "outputs": [],
   "source": [
    "def test_randomized_cv(x, y):\n",
    "    print(\"Testing randomized CV:\\n--------------\\n\")\n",
    "    r2_avg, yhat = run_randomized_cv(x, y, random_seed=RANDOM_SEED, to_print=False)\n",
    "    r2_preds = r2_score(y, yhat)\n",
    "    r2_pearson = stats.pearsonr(y, yhat)[0]**2\n",
    "    print(f\"For {COUNTRY}, r2 avg: {r2_avg}, r2 combined preds: {r2_preds}, r2 pearson: {r2_pearson}\")\n",
    "    \n",
    "def test_spatial_cv(x, y, df):\n",
    "    print(\"Testing spatial CV:\\n--------------\\n\")\n",
    "    groups, _ = assign_groups(df, k=5, random_seed=RANDOM_SEED)\n",
    "    r2_avg, yhat = run_spatial_cv(x, y, groups, random_seed=RANDOM_SEED, to_print=False)\n",
    "    r2_preds = r2_score(y, yhat)\n",
    "    r2_pearson = stats.pearsonr(y, yhat)[0]**2\n",
    "    print(f\"For {COUNTRY}, r2 avg: {r2_avg}, r2 combined preds: {r2_preds}, r2 pearson: {r2_pearson}\")"
   ]
  },
  {
   "cell_type": "code",
   "execution_count": 6,
   "metadata": {},
   "outputs": [],
   "source": [
    "def test_metric_helper(x_train, y_train, groups_train, x_valid, y_valid):\n",
    "    print(\"running randomized cv...\")\n",
    "    r2_rcv, _, ridges_rcv, scalers_rcv = run_randomized_cv(x_train, y_train, random_seed=RANDOM_SEED)\n",
    "    re_rcv = RidgeEnsemble(ridges_rcv, scalers_rcv)\n",
    "    yhat_rcv_valid = re_rcv.predict(x_valid)\n",
    "    r2_rcv_valid = r2_score(y_valid, yhat_rcv_valid)\n",
    "    print(f\"randomized cv r2: {r2_rcv}, validation r2: {r2_rcv_valid}\")\n",
    "    pearson_r2_rcv = stats.pearsonr(y_valid, yhat_rcv_valid)[0]**2\n",
    "    print(f\"validation pearson R squared: {pearson_r2_rcv}\")\n",
    "    \n",
    "    print(\"running spatial cv...\")\n",
    "    r2_scv, _, ridges_scv, scalers_scv = run_spatial_cv(x_train, y_train, groups_train, random_seed=RANDOM_SEED)\n",
    "    re_scv = RidgeEnsemble(ridges_scv, scalers_scv)\n",
    "    yhat_scv_valid = re_scv.predict(x_valid)\n",
    "    r2_scv_valid = r2_score(y_valid, yhat_scv_valid)\n",
    "    print(f\"spatial cv r2: {r2_scv}, validation r2: {r2_scv_valid}\")\n",
    "    pearson_r2_scv = stats.pearsonr(y_valid, yhat_scv_valid)[0]**2\n",
    "    print(f\"validation pearson R squared: {pearson_r2_scv}\")\n",
    "    \n",
    "def test_metric(metric):\n",
    "    x_train_mw, df_train_mw, x_valid_mw, df_valid_mw = load_data(metric)\n",
    "    y_train = df_train_mw[metric].values\n",
    "    y_valid = df_valid_mw[metric].values\n",
    "    groups_train, _ = assign_groups(df_train_mw, 5, random_seed=RANDOM_SEED)\n",
    "    test_metric_helper(x_train_mw, y_train, groups_train, x_valid_mw, y_valid)\n",
    "    \n",
    "def test_metric_with_lenz(df_lenz, metric):\n",
    "    lenz_x_cols = df_lenz.columns.drop(['cluster_lat', 'cluster_lon'])\n",
    "    x_train_mw, df_train_mw, x_valid_mw, df_valid_mw = load_data(metric)\n",
    "    df_train_combined = merge_on_lat_lon(df_lenz, df_train_mw).sort_values('feat_index', ascending=True)\n",
    "    df_valid_combined = merge_on_lat_lon(df_lenz, df_valid_mw).sort_values('feat_index', ascending=True)\n",
    "    assert(len(df_train_combined) == len(df_train_mw))\n",
    "    assert(len(df_valid_combined) == len(df_valid_mw))\n",
    "    x_train_lenz = df_train_combined[lenz_x_cols].values\n",
    "    x_valid_lenz = df_valid_combined[lenz_x_cols].values\n",
    "    y_train = df_train_combined[metric].values\n",
    "    y_valid = df_valid_combined[metric].values\n",
    "    groups_train, _ = assign_groups(df_train_mw, 5, random_seed=RANDOM_SEED)\n",
    "    \n",
    "    print('CNN performance:')\n",
    "    test_metric_helper(x_train_mw, y_train, groups_train, x_valid_mw, y_valid)\n",
    "    print()\n",
    "    \n",
    "    print('Lenz performance:')\n",
    "    test_metric_helper(x_train_lenz, y_train, groups_train, x_valid_lenz, y_valid)\n",
    "    print()\n",
    "    \n",
    "    print('CNN + Lenz performance:')\n",
    "    x_train_combined = np.append(x_train_mw, x_train_lenz, axis=1)\n",
    "    x_valid_combined = np.append(x_valid_mw, x_valid_lenz, axis=1)\n",
    "    test_metric_helper(x_train_combined, y_train, groups_train, x_valid_combined, y_valid)\n",
    "    "
   ]
  },
  {
   "cell_type": "code",
   "execution_count": 8,
   "metadata": {
    "scrolled": false
   },
   "outputs": [],
   "source": [
    "# these will work as is\n",
    "# the code that comes after uses additional work from previous paper Lenz et al\n",
    "# at the moment that code is not shown in this repo\n",
    "# test_metric('rCSI')\n",
    "# test_metric('FCS')\n",
    "# test_metric('HDDS')"
   ]
  },
  {
   "cell_type": "code",
   "execution_count": 9,
   "metadata": {},
   "outputs": [],
   "source": [
    "df_lenz = pd.read_csv(os.path.join(PROCESSED_DIR, 'mw_no_asset.csv'))\n",
    "df_lenz.drop(['ea_id', 'HHID', 'FS_year', 'FS_month', 'FCS', 'HDDS', 'rCSI',\n",
    "             'region_north', 'region_central', 'rural', 'nutri_severe_constraint',\n",
    "             'nutri_moderate_constraint', 'nutri_reten_severe_constraint', 'dummy_terrain_rough'],\n",
    "            axis=1, inplace=True)\n",
    "df_lenz.rename(columns={'lat_modified': 'cluster_lat',\n",
    "                       'lon_modified': 'cluster_lon'}, inplace=True)\n",
    "df_lenz = df_lenz.groupby(['cluster_lat', 'cluster_lon']).mean().reset_index()"
   ]
  },
  {
   "cell_type": "code",
   "execution_count": 11,
   "metadata": {},
   "outputs": [
    {
     "name": "stdout",
     "output_type": "stream",
     "text": [
      "CNN performance:\n",
      "running randomized cv...\n",
      "randomized cv r2: 0.23652486135115924, validation r2: 0.2266617008771773\n",
      "validation pearson R squared: 0.23895947144078647\n",
      "running spatial cv...\n",
      "spatial cv r2: -0.004706973265082337, validation r2: 0.21790119643903927\n",
      "validation pearson R squared: 0.23777776342364979\n",
      "\n",
      "Lenz performance:\n",
      "running randomized cv...\n",
      "randomized cv r2: 0.19157550744113647, validation r2: 0.10546423222850254\n",
      "validation pearson R squared: 0.11356375234821336\n",
      "running spatial cv...\n",
      "spatial cv r2: -0.09118442750403769, validation r2: 0.10385252043882931\n",
      "validation pearson R squared: 0.10605419087669815\n",
      "\n",
      "CNN + Lenz performance:\n",
      "running randomized cv...\n",
      "randomized cv r2: 0.2883685622239858, validation r2: 0.24985636992709115\n",
      "validation pearson R squared: 0.2506063843665234\n",
      "running spatial cv...\n"
     ]
    },
    {
     "name": "stderr",
     "output_type": "stream",
     "text": [
      "/opt/conda/envs/predicting-poverty-replication/lib/python3.7/site-packages/sklearn/linear_model/_ridge.py:190: UserWarning: Singular matrix in solving dual problem. Using least-squares solution instead.\n",
      "  warnings.warn(\"Singular matrix in solving dual problem. Using \"\n"
     ]
    },
    {
     "name": "stdout",
     "output_type": "stream",
     "text": [
      "spatial cv r2: -3.6272926508985726, validation r2: -0.28310376536868165\n",
      "validation pearson R squared: 0.060826752327573945\n"
     ]
    }
   ],
   "source": [
    "test_metric_with_lenz(df_lenz, 'rCSI')"
   ]
  },
  {
   "cell_type": "code",
   "execution_count": 12,
   "metadata": {},
   "outputs": [
    {
     "name": "stdout",
     "output_type": "stream",
     "text": [
      "CNN performance:\n",
      "running randomized cv...\n",
      "randomized cv r2: 0.6764587141769116, validation r2: 0.5216566452928635\n",
      "validation pearson R squared: 0.5273753223135647\n",
      "running spatial cv...\n",
      "spatial cv r2: 0.44331127335517806, validation r2: 0.5243843993719107\n",
      "validation pearson R squared: 0.529037742612119\n",
      "\n",
      "Lenz performance:\n",
      "running randomized cv...\n",
      "randomized cv r2: 0.2923584246296958, validation r2: 0.15251367960406503\n",
      "validation pearson R squared: 0.17488352714767194\n",
      "running spatial cv...\n",
      "spatial cv r2: -0.959669602586733, validation r2: 0.13300248145668592\n",
      "validation pearson R squared: 0.16460981902847518\n",
      "\n",
      "CNN + Lenz performance:\n",
      "running randomized cv...\n",
      "randomized cv r2: 0.678636171381391, validation r2: 0.5295725759707491\n",
      "validation pearson R squared: 0.5351504935064391\n",
      "running spatial cv...\n",
      "spatial cv r2: 0.4232089179586168, validation r2: 0.5297588752190538\n",
      "validation pearson R squared: 0.5349716665727139\n"
     ]
    }
   ],
   "source": [
    "test_metric_with_lenz(df_lenz, 'FCS')"
   ]
  },
  {
   "cell_type": "code",
   "execution_count": 13,
   "metadata": {},
   "outputs": [
    {
     "name": "stdout",
     "output_type": "stream",
     "text": [
      "CNN performance:\n",
      "running randomized cv...\n",
      "randomized cv r2: 0.5536879346780037, validation r2: 0.4121535309695724\n",
      "validation pearson R squared: 0.4231647429456188\n",
      "running spatial cv...\n",
      "spatial cv r2: 0.35973326305990483, validation r2: 0.40667362542493213\n",
      "validation pearson R squared: 0.41588990603859294\n",
      "\n",
      "Lenz performance:\n",
      "running randomized cv...\n",
      "randomized cv r2: 0.2980209919469834, validation r2: 0.1782060092404023\n",
      "validation pearson R squared: 0.2041147842809073\n",
      "running spatial cv...\n",
      "spatial cv r2: -0.15380159247163938, validation r2: 0.16352338869744176\n",
      "validation pearson R squared: 0.18592641537331384\n",
      "\n",
      "CNN + Lenz performance:\n",
      "running randomized cv...\n",
      "randomized cv r2: 0.581669731141842, validation r2: 0.45140359383206674\n",
      "validation pearson R squared: 0.4605220841389348\n",
      "running spatial cv...\n",
      "spatial cv r2: 0.3650193086298616, validation r2: 0.441968687716644\n",
      "validation pearson R squared: 0.4495891237656618\n"
     ]
    }
   ],
   "source": [
    "test_metric_with_lenz(df_lenz, 'HDDS')"
   ]
  },
  {
   "cell_type": "code",
   "execution_count": null,
   "metadata": {},
   "outputs": [],
   "source": []
  },
  {
   "cell_type": "markdown",
   "metadata": {},
   "source": [
    "# Plotting"
   ]
  },
  {
   "cell_type": "code",
   "execution_count": 48,
   "metadata": {},
   "outputs": [],
   "source": [
    "def plot_predictions(y, yhat, r2, title, max_y=None):\n",
    "    if max_y is not None:\n",
    "        yhat = yhat[y < max_y]\n",
    "        y = y[y < max_y]\n",
    "    fig = plt.figure(figsize=(8,5))\n",
    "    plt.scatter(y, yhat, alpha=0.6)    \n",
    "    y_i = np.unique(y)\n",
    "    yhat_i = np.poly1d(np.polyfit(y, yhat, 1))(y_i)\n",
    "    plt.plot(y_i, yhat_i, color='g')\n",
    "    xloc = 0.75 * max(y_i)\n",
    "    yloc = 0.75 * max(yhat_i)\n",
    "    plt.text(xloc, yloc, f'r^2={round(r2, 2)}', size=12)\n",
    "    plt.xlabel('Actual Consumption($/day)')\n",
    "    plt.ylabel('Predicted Consumption($/day)')\n",
    "    plt.title(f'{title}')\n",
    "    return fig"
   ]
  },
  {
   "cell_type": "code",
   "execution_count": 50,
   "metadata": {},
   "outputs": [
    {
     "data": {
      "image/png": "[encoded data removed]",
      "text/plain": [
       "<Figure size 576x360 with 1 Axes>"
      ]
     },
     "metadata": {
      "needs_background": "light"
     },
     "output_type": "display_data"
    }
   ],
   "source": [
    "metric = 'HDDS'\n",
    "x_train_mw, df_train_mw, x_valid_mw, df_valid_mw = load_data(metric)\n",
    "y_train = df_train_mw[metric].values\n",
    "y_valid = df_valid_mw[metric].values\n",
    "r2_rcv, _, ridges_rcv, scalers_rcv = run_randomized_cv(x_train_mw, y_train, random_seed=RANDOM_SEED)\n",
    "re_rcv = RidgeEnsemble(ridges_rcv, scalers_rcv)\n",
    "yhat_rcv_valid = re_rcv.predict(x_valid_mw)\n",
    "r2_rcv_valid = r2_score(y_valid, yhat_rcv_valid)\n",
    "title = f'Malawi {metric} Results'\n",
    "fig = plot_predictions(y_valid, yhat_rcv_valid, r2_rcv_valid, f'Malawi {metric} Results')\n",
    "\n",
    "name = title.replace(' ', '_')\n",
    "fig.savefig(os.path.join(FIGURES_DIR, f'{name}.png'))"
   ]
  },
  {
   "cell_type": "code",
   "execution_count": null,
   "metadata": {},
   "outputs": [],
   "source": []
  }
 ],
 "metadata": {
  "environment": {
   "name": "pytorch-gpu.1-4.m46",
   "type": "gcloud",
   "uri": "gcr.io/deeplearning-platform-release/pytorch-gpu.1-4:m46"
  },
  "kernelspec": {
   "display_name": "predicting-poverty-replication",
   "language": "python",
   "name": "predicting-poverty-replication"
  },
  "language_info": {
   "codemirror_mode": {
    "name": "ipython",
    "version": 3
   },
   "file_extension": ".py",
   "mimetype": "text/x-python",
   "name": "python",
   "nbconvert_exporter": "python",
   "pygments_lexer": "ipython3",
   "version": "3.7.6"
  }
 },
 "nbformat": 4,
 "nbformat_minor": 2
}
