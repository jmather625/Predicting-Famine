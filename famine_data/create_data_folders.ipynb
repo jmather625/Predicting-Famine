{
 "cells": [
  {
   "cell_type": "markdown",
   "metadata": {},
   "source": [
    "Uss the files created using the scripts in `data` and sets up the whole training script."
   ]
  },
  {
   "cell_type": "code",
   "execution_count": 1,
   "metadata": {},
   "outputs": [],
   "source": [
    "import pandas as pd\n",
    "import numpy as np\n",
    "df_mw_download = pd.read_csv('data/mw_2016_download_info.csv')\n",
    "df_mw_guide = pd.read_csv('data/mw_2016_guide.csv')"
   ]
  },
  {
   "cell_type": "code",
   "execution_count": 2,
   "metadata": {},
   "outputs": [
    {
     "data": {
      "text/plain": [
       "((28113, 7), (90943, 6))"
      ]
     },
     "execution_count": 2,
     "metadata": {},
     "output_type": "execute_result"
    }
   ],
   "source": [
    "df_mw_download.shape, df_mw_guide.shape"
   ]
  },
  {
   "cell_type": "code",
   "execution_count": 4,
   "metadata": {
    "scrolled": false
   },
   "outputs": [
    {
     "data": {
      "text/plain": [
       "780"
      ]
     },
     "execution_count": 4,
     "metadata": {},
     "output_type": "execute_result"
    }
   ],
   "source": [
    "len(df_mw_guide.groupby(['clust_lat', 'clust_lon'])) # number of clusters"
   ]
  },
  {
   "cell_type": "code",
   "execution_count": 5,
   "metadata": {},
   "outputs": [],
   "source": [
    "# merges the images downloaded with the original dataframe\n",
    "df_sub = df_mw_download[['im_lat', 'im_lon', 'images']]\n",
    "df_mw = pd.merge(left=df_mw_guide, right=df_sub, on=['im_lat', 'im_lon'])"
   ]
  },
  {
   "cell_type": "code",
   "execution_count": 7,
   "metadata": {},
   "outputs": [
    {
     "data": {
      "text/html": [
       "<div>\n",
       "<style scoped>\n",
       "    .dataframe tbody tr th:only-of-type {\n",
       "        vertical-align: middle;\n",
       "    }\n",
       "\n",
       "    .dataframe tbody tr th {\n",
       "        vertical-align: top;\n",
       "    }\n",
       "\n",
       "    .dataframe thead th {\n",
       "        text-align: right;\n",
       "    }\n",
       "</style>\n",
       "<table border=\"1\" class=\"dataframe\">\n",
       "  <thead>\n",
       "    <tr style=\"text-align: right;\">\n",
       "      <th></th>\n",
       "      <th>im_lat</th>\n",
       "      <th>im_lon</th>\n",
       "      <th>clust_lat</th>\n",
       "      <th>clust_lon</th>\n",
       "      <th>nightlight</th>\n",
       "      <th>consumption</th>\n",
       "      <th>images</th>\n",
       "    </tr>\n",
       "  </thead>\n",
       "  <tbody>\n",
       "    <tr>\n",
       "      <th>0</th>\n",
       "      <td>-17.050000</td>\n",
       "      <td>35.174999</td>\n",
       "      <td>-17.09515</td>\n",
       "      <td>35.217213</td>\n",
       "      <td>0.0</td>\n",
       "      <td>2.039307</td>\n",
       "      <td>-17.05_35.174999.png</td>\n",
       "    </tr>\n",
       "    <tr>\n",
       "      <th>1</th>\n",
       "      <td>-17.125000</td>\n",
       "      <td>35.174999</td>\n",
       "      <td>-17.09515</td>\n",
       "      <td>35.217213</td>\n",
       "      <td>0.0</td>\n",
       "      <td>2.039307</td>\n",
       "      <td>-17.125_35.174999.png</td>\n",
       "    </tr>\n",
       "    <tr>\n",
       "      <th>2</th>\n",
       "      <td>-17.050000</td>\n",
       "      <td>35.183332</td>\n",
       "      <td>-17.09515</td>\n",
       "      <td>35.217213</td>\n",
       "      <td>0.0</td>\n",
       "      <td>2.039307</td>\n",
       "      <td>-17.05_35.183332.png</td>\n",
       "    </tr>\n",
       "    <tr>\n",
       "      <th>3</th>\n",
       "      <td>-17.058333</td>\n",
       "      <td>35.183332</td>\n",
       "      <td>-17.09515</td>\n",
       "      <td>35.217213</td>\n",
       "      <td>0.0</td>\n",
       "      <td>2.039307</td>\n",
       "      <td>-17.058332999999998_35.183332.png</td>\n",
       "    </tr>\n",
       "    <tr>\n",
       "      <th>4</th>\n",
       "      <td>-17.100000</td>\n",
       "      <td>35.183332</td>\n",
       "      <td>-17.09515</td>\n",
       "      <td>35.217213</td>\n",
       "      <td>0.0</td>\n",
       "      <td>2.039307</td>\n",
       "      <td>-17.1_35.183332.png</td>\n",
       "    </tr>\n",
       "  </tbody>\n",
       "</table>\n",
       "</div>"
      ],
      "text/plain": [
       "      im_lat     im_lon  clust_lat  clust_lon  nightlight  consumption  \\\n",
       "0 -17.050000  35.174999  -17.09515  35.217213         0.0     2.039307   \n",
       "1 -17.125000  35.174999  -17.09515  35.217213         0.0     2.039307   \n",
       "2 -17.050000  35.183332  -17.09515  35.217213         0.0     2.039307   \n",
       "3 -17.058333  35.183332  -17.09515  35.217213         0.0     2.039307   \n",
       "4 -17.100000  35.183332  -17.09515  35.217213         0.0     2.039307   \n",
       "\n",
       "                              images  \n",
       "0               -17.05_35.174999.png  \n",
       "1              -17.125_35.174999.png  \n",
       "2               -17.05_35.183332.png  \n",
       "3  -17.058332999999998_35.183332.png  \n",
       "4                -17.1_35.183332.png  "
      ]
     },
     "execution_count": 7,
     "metadata": {},
     "output_type": "execute_result"
    }
   ],
   "source": [
    "df_mw.head()"
   ]
  },
  {
   "cell_type": "code",
   "execution_count": 8,
   "metadata": {},
   "outputs": [
    {
     "data": {
      "text/plain": [
       "((90943, 6), (54404, 7))"
      ]
     },
     "execution_count": 8,
     "metadata": {},
     "output_type": "execute_result"
    }
   ],
   "source": [
    "# I didn't download all the images and also I got rid of some image repeats, hence the difference\n",
    "df_mw_guide.shape, df_mw.shape"
   ]
  },
  {
   "cell_type": "code",
   "execution_count": 11,
   "metadata": {},
   "outputs": [],
   "source": [
    "# adds a \"cluster number\" to the dataframe, kind of unnecessary because\n",
    "# a groupby of \"clust_lat\" and \"clust_lon\" suffices\n",
    "clust_group = df_mw.groupby(['clust_lat', 'clust_lon'])\n",
    "clust_group = clust_group.first().reset_index()[['clust_lat', 'clust_lon']]\n",
    "clust_numbers = np.arange(len(clust_group))\n",
    "clust_group['clust_num'] = clust_numbers"
   ]
  },
  {
   "cell_type": "code",
   "execution_count": 12,
   "metadata": {},
   "outputs": [
    {
     "data": {
      "text/html": [
       "<div>\n",
       "<style scoped>\n",
       "    .dataframe tbody tr th:only-of-type {\n",
       "        vertical-align: middle;\n",
       "    }\n",
       "\n",
       "    .dataframe tbody tr th {\n",
       "        vertical-align: top;\n",
       "    }\n",
       "\n",
       "    .dataframe thead th {\n",
       "        text-align: right;\n",
       "    }\n",
       "</style>\n",
       "<table border=\"1\" class=\"dataframe\">\n",
       "  <thead>\n",
       "    <tr style=\"text-align: right;\">\n",
       "      <th></th>\n",
       "      <th>clust_lat</th>\n",
       "      <th>clust_lon</th>\n",
       "      <th>clust_num</th>\n",
       "    </tr>\n",
       "  </thead>\n",
       "  <tbody>\n",
       "    <tr>\n",
       "      <th>0</th>\n",
       "      <td>-17.095150</td>\n",
       "      <td>35.217213</td>\n",
       "      <td>0</td>\n",
       "    </tr>\n",
       "    <tr>\n",
       "      <th>1</th>\n",
       "      <td>-17.092351</td>\n",
       "      <td>35.114643</td>\n",
       "      <td>1</td>\n",
       "    </tr>\n",
       "    <tr>\n",
       "      <th>2</th>\n",
       "      <td>-17.016698</td>\n",
       "      <td>35.079629</td>\n",
       "      <td>2</td>\n",
       "    </tr>\n",
       "    <tr>\n",
       "      <th>3</th>\n",
       "      <td>-16.977243</td>\n",
       "      <td>35.205706</td>\n",
       "      <td>3</td>\n",
       "    </tr>\n",
       "    <tr>\n",
       "      <th>4</th>\n",
       "      <td>-16.956385</td>\n",
       "      <td>35.168967</td>\n",
       "      <td>4</td>\n",
       "    </tr>\n",
       "  </tbody>\n",
       "</table>\n",
       "</div>"
      ],
      "text/plain": [
       "   clust_lat  clust_lon  clust_num\n",
       "0 -17.095150  35.217213          0\n",
       "1 -17.092351  35.114643          1\n",
       "2 -17.016698  35.079629          2\n",
       "3 -16.977243  35.205706          3\n",
       "4 -16.956385  35.168967          4"
      ]
     },
     "execution_count": 12,
     "metadata": {},
     "output_type": "execute_result"
    }
   ],
   "source": [
    "clust_group.head()"
   ]
  },
  {
   "cell_type": "code",
   "execution_count": 13,
   "metadata": {},
   "outputs": [],
   "source": [
    "df_mw = pd.merge(df_mw, clust_group, on=['clust_lat', 'clust_lon'])\n",
    "df_mw.head()"
   ]
  },
  {
   "cell_type": "code",
   "execution_count": 15,
   "metadata": {},
   "outputs": [
    {
     "data": {
      "text/plain": [
       "(54404, 8)"
      ]
     },
     "execution_count": 15,
     "metadata": {},
     "output_type": "execute_result"
    }
   ],
   "source": [
    "df_mw.shape"
   ]
  },
  {
   "cell_type": "markdown",
   "metadata": {},
   "source": [
    "I'm gonna add an _ to the images to show which cluster they come from"
   ]
  },
  {
   "cell_type": "code",
   "execution_count": 16,
   "metadata": {},
   "outputs": [],
   "source": [
    "df_mw['images'] = df_mw.apply(lambda x: x.images[:-4] + '_' + str(x.clust_num) + '.png', axis=1)"
   ]
  },
  {
   "cell_type": "code",
   "execution_count": 17,
   "metadata": {},
   "outputs": [
    {
     "data": {
      "text/html": [
       "<div>\n",
       "<style scoped>\n",
       "    .dataframe tbody tr th:only-of-type {\n",
       "        vertical-align: middle;\n",
       "    }\n",
       "\n",
       "    .dataframe tbody tr th {\n",
       "        vertical-align: top;\n",
       "    }\n",
       "\n",
       "    .dataframe thead th {\n",
       "        text-align: right;\n",
       "    }\n",
       "</style>\n",
       "<table border=\"1\" class=\"dataframe\">\n",
       "  <thead>\n",
       "    <tr style=\"text-align: right;\">\n",
       "      <th></th>\n",
       "      <th>im_lat</th>\n",
       "      <th>im_lon</th>\n",
       "      <th>clust_lat</th>\n",
       "      <th>clust_lon</th>\n",
       "      <th>nightlight</th>\n",
       "      <th>consumption</th>\n",
       "      <th>images</th>\n",
       "      <th>clust_num</th>\n",
       "    </tr>\n",
       "  </thead>\n",
       "  <tbody>\n",
       "    <tr>\n",
       "      <th>0</th>\n",
       "      <td>-17.050000</td>\n",
       "      <td>35.174999</td>\n",
       "      <td>-17.09515</td>\n",
       "      <td>35.217213</td>\n",
       "      <td>0.0</td>\n",
       "      <td>2.039307</td>\n",
       "      <td>-17.05_35.174999_0.png</td>\n",
       "      <td>0</td>\n",
       "    </tr>\n",
       "    <tr>\n",
       "      <th>1</th>\n",
       "      <td>-17.125000</td>\n",
       "      <td>35.174999</td>\n",
       "      <td>-17.09515</td>\n",
       "      <td>35.217213</td>\n",
       "      <td>0.0</td>\n",
       "      <td>2.039307</td>\n",
       "      <td>-17.125_35.174999_0.png</td>\n",
       "      <td>0</td>\n",
       "    </tr>\n",
       "    <tr>\n",
       "      <th>2</th>\n",
       "      <td>-17.050000</td>\n",
       "      <td>35.183332</td>\n",
       "      <td>-17.09515</td>\n",
       "      <td>35.217213</td>\n",
       "      <td>0.0</td>\n",
       "      <td>2.039307</td>\n",
       "      <td>-17.05_35.183332_0.png</td>\n",
       "      <td>0</td>\n",
       "    </tr>\n",
       "    <tr>\n",
       "      <th>3</th>\n",
       "      <td>-17.058333</td>\n",
       "      <td>35.183332</td>\n",
       "      <td>-17.09515</td>\n",
       "      <td>35.217213</td>\n",
       "      <td>0.0</td>\n",
       "      <td>2.039307</td>\n",
       "      <td>-17.058332999999998_35.183332_0.png</td>\n",
       "      <td>0</td>\n",
       "    </tr>\n",
       "    <tr>\n",
       "      <th>4</th>\n",
       "      <td>-17.100000</td>\n",
       "      <td>35.183332</td>\n",
       "      <td>-17.09515</td>\n",
       "      <td>35.217213</td>\n",
       "      <td>0.0</td>\n",
       "      <td>2.039307</td>\n",
       "      <td>-17.1_35.183332_0.png</td>\n",
       "      <td>0</td>\n",
       "    </tr>\n",
       "  </tbody>\n",
       "</table>\n",
       "</div>"
      ],
      "text/plain": [
       "      im_lat     im_lon  clust_lat  clust_lon  nightlight  consumption  \\\n",
       "0 -17.050000  35.174999  -17.09515  35.217213         0.0     2.039307   \n",
       "1 -17.125000  35.174999  -17.09515  35.217213         0.0     2.039307   \n",
       "2 -17.050000  35.183332  -17.09515  35.217213         0.0     2.039307   \n",
       "3 -17.058333  35.183332  -17.09515  35.217213         0.0     2.039307   \n",
       "4 -17.100000  35.183332  -17.09515  35.217213         0.0     2.039307   \n",
       "\n",
       "                                images  clust_num  \n",
       "0               -17.05_35.174999_0.png          0  \n",
       "1              -17.125_35.174999_0.png          0  \n",
       "2               -17.05_35.183332_0.png          0  \n",
       "3  -17.058332999999998_35.183332_0.png          0  \n",
       "4                -17.1_35.183332_0.png          0  "
      ]
     },
     "execution_count": 17,
     "metadata": {},
     "output_type": "execute_result"
    }
   ],
   "source": [
    "df_mw.head()"
   ]
  },
  {
   "cell_type": "code",
   "execution_count": 85,
   "metadata": {},
   "outputs": [],
   "source": [
    "!mkdir ims"
   ]
  },
  {
   "cell_type": "code",
   "execution_count": 86,
   "metadata": {},
   "outputs": [],
   "source": [
    "import shutil"
   ]
  },
  {
   "cell_type": "code",
   "execution_count": 87,
   "metadata": {},
   "outputs": [],
   "source": [
    "# this will copy images into a folder called ims\n",
    "# this folder is helpful because the original folder has all unique images\n",
    "# now, we need to duplicate those images and distinguish them by their new name (as made previously)\n",
    "def create_im_renamed(x):\n",
    "    orig_name = x.split('_') # gets the original name of the image as it appears in the downloaded image folder\n",
    "    shutil.copy('data/ims_malawi_2016/{}'.format(orig_name[0] + '_' + orig_name[1] + '.png'), 'ims/{}'.format(x))"
   ]
  },
  {
   "cell_type": "code",
   "execution_count": 88,
   "metadata": {},
   "outputs": [
    {
     "data": {
      "text/plain": [
       "0        None\n",
       "1        None\n",
       "2        None\n",
       "3        None\n",
       "4        None\n",
       "5        None\n",
       "6        None\n",
       "7        None\n",
       "8        None\n",
       "9        None\n",
       "10       None\n",
       "11       None\n",
       "12       None\n",
       "13       None\n",
       "14       None\n",
       "15       None\n",
       "16       None\n",
       "17       None\n",
       "18       None\n",
       "19       None\n",
       "20       None\n",
       "21       None\n",
       "22       None\n",
       "23       None\n",
       "24       None\n",
       "25       None\n",
       "26       None\n",
       "27       None\n",
       "28       None\n",
       "29       None\n",
       "         ... \n",
       "74022    None\n",
       "74023    None\n",
       "74024    None\n",
       "74025    None\n",
       "74026    None\n",
       "74027    None\n",
       "74028    None\n",
       "74029    None\n",
       "74030    None\n",
       "74031    None\n",
       "74032    None\n",
       "74033    None\n",
       "74034    None\n",
       "74035    None\n",
       "74036    None\n",
       "74037    None\n",
       "74038    None\n",
       "74039    None\n",
       "74040    None\n",
       "74041    None\n",
       "74042    None\n",
       "74043    None\n",
       "74044    None\n",
       "74045    None\n",
       "74046    None\n",
       "74047    None\n",
       "74048    None\n",
       "74049    None\n",
       "74050    None\n",
       "74051    None\n",
       "Name: images, Length: 74052, dtype: object"
      ]
     },
     "execution_count": 88,
     "metadata": {},
     "output_type": "execute_result"
    }
   ],
   "source": [
    "df_mw['images'].apply(create_im_renamed)"
   ]
  },
  {
   "cell_type": "code",
   "execution_count": 18,
   "metadata": {},
   "outputs": [
    {
     "data": {
      "text/plain": [
       "0.5358061907212704"
      ]
     },
     "execution_count": 18,
     "metadata": {},
     "output_type": "execute_result"
    }
   ],
   "source": [
    "# a naive way to bin nightlights\n",
    "(df_mw['nightlight'] < 1).mean()"
   ]
  },
  {
   "cell_type": "code",
   "execution_count": 19,
   "metadata": {},
   "outputs": [
    {
     "data": {
      "text/plain": [
       "0.23951266177715713"
      ]
     },
     "execution_count": 19,
     "metadata": {},
     "output_type": "execute_result"
    }
   ],
   "source": [
    "((df_mw['nightlight'] >= 1) & (df_mw_guide['nightlight'] < 10)).mean()"
   ]
  },
  {
   "cell_type": "code",
   "execution_count": 20,
   "metadata": {},
   "outputs": [
    {
     "data": {
      "text/plain": [
       "0.10780457319314757"
      ]
     },
     "execution_count": 20,
     "metadata": {},
     "output_type": "execute_result"
    }
   ],
   "source": [
    "((df_mw['nightlight'] >= 10)).mean()"
   ]
  },
  {
   "cell_type": "code",
   "execution_count": 94,
   "metadata": {},
   "outputs": [],
   "source": [
    "df_mw['nightlight_bin'] = (df_mw['nightlight'] < 1)*1 + \\\n",
    "                                ((df_mw['nightlight'] >= 1) & (df_mw['nightlight'] < 10))*2 + \\\n",
    "                                (df_mw['nightlight'] >= 10)*3"
   ]
  },
  {
   "cell_type": "code",
   "execution_count": 21,
   "metadata": {},
   "outputs": [],
   "source": [
    "df_mw.to_csv('all_ims_guide.csv', index=False)"
   ]
  },
  {
   "cell_type": "code",
   "execution_count": null,
   "metadata": {},
   "outputs": [],
   "source": []
  },
  {
   "cell_type": "code",
   "execution_count": 23,
   "metadata": {},
   "outputs": [],
   "source": [
    "df_mw = pd.read_csv('all_ims_guide.csv')"
   ]
  },
  {
   "cell_type": "code",
   "execution_count": 24,
   "metadata": {},
   "outputs": [],
   "source": [
    "# uses a GMM to determine the groups\n",
    "# these should be balanced somewhat, so one class doesn't totally dominate\n",
    "from sklearn.mixture import GaussianMixture as GMM\n",
    "X = df_mw['nightlight'].values.reshape(-1,1)\n",
    "gmm = GMM(n_components=3).fit(X)\n",
    "labels = gmm.predict(df_mw['nightlight'].values.reshape(-1,1))"
   ]
  },
  {
   "cell_type": "code",
   "execution_count": 25,
   "metadata": {},
   "outputs": [
    {
     "data": {
      "text/plain": [
       "(0.43862583633556357, 0.054389383133593115, 0.5069847805308433)"
      ]
     },
     "execution_count": 25,
     "metadata": {},
     "output_type": "execute_result"
    }
   ],
   "source": [
    "(labels==0).mean(), (labels==1).mean(), (labels==2).mean()"
   ]
  },
  {
   "cell_type": "code",
   "execution_count": 10,
   "metadata": {},
   "outputs": [],
   "source": [
    "df_mw['nightlight_bin'] = labels + 1"
   ]
  },
  {
   "cell_type": "markdown",
   "metadata": {},
   "source": [
    "Create train/valid folders by copying images from `ims`\n",
    "\n",
    "The model will use these directly."
   ]
  },
  {
   "cell_type": "code",
   "execution_count": 11,
   "metadata": {},
   "outputs": [],
   "source": [
    "import os, shutil\n",
    "import numpy as np"
   ]
  },
  {
   "cell_type": "code",
   "execution_count": 12,
   "metadata": {},
   "outputs": [
    {
     "data": {
      "text/plain": [
       "59241"
      ]
     },
     "execution_count": 12,
     "metadata": {},
     "output_type": "execute_result"
    }
   ],
   "source": [
    "pic_list = df_mw['images'].values.tolist()\n",
    "to_pick = int(0.8*len(pic_list)); to_pick"
   ]
  },
  {
   "cell_type": "code",
   "execution_count": 13,
   "metadata": {},
   "outputs": [],
   "source": [
    "inds = np.arange(len(pic_list))\n",
    "train_ind = np.random.choice(np.arange(len(pic_list)), to_pick, replace=False)\n",
    "valid_ind = np.delete(inds, train_ind)"
   ]
  },
  {
   "cell_type": "code",
   "execution_count": 14,
   "metadata": {},
   "outputs": [],
   "source": [
    "pic_list = np.array(pic_list)\n",
    "train_im = pic_list[train_ind]\n",
    "valid_im = pic_list[valid_ind]"
   ]
  },
  {
   "cell_type": "code",
   "execution_count": 16,
   "metadata": {},
   "outputs": [],
   "source": [
    "os.makedirs('train', exist_ok=False)\n",
    "os.makedirs('valid', exist_ok=False)"
   ]
  },
  {
   "cell_type": "code",
   "execution_count": 17,
   "metadata": {},
   "outputs": [],
   "source": [
    "t = df_mw.iloc[train_ind]\n",
    "v = df_mw.iloc[valid_ind]"
   ]
  },
  {
   "cell_type": "code",
   "execution_count": 18,
   "metadata": {},
   "outputs": [],
   "source": [
    "for fi, l in zip(t['images'], t['nightlight_bin']):\n",
    "    os.makedirs('train/{}'.format(l), exist_ok=True)\n",
    "    shutil.copy('ims/{}'.format(fi), 'train/{}'.format(l))\n",
    "    \n",
    "for fi, l in zip(v['images'], v['nightlight_bin']):\n",
    "    os.makedirs('valid/{}'.format(l), exist_ok=True)\n",
    "    shutil.copy('ims/{}'.format(fi), 'valid/{}'.format(l))"
   ]
  },
  {
   "cell_type": "code",
   "execution_count": 19,
   "metadata": {},
   "outputs": [
    {
     "name": "stdout",
     "output_type": "stream",
     "text": [
      "30795\n",
      "7197\n",
      "21249\n"
     ]
    }
   ],
   "source": [
    "# shows count distribution in train folder\n",
    "for i in range(1,4):\n",
    "    print(len(os.listdir('train/{}'.format(str(i)))))"
   ]
  },
  {
   "cell_type": "code",
   "execution_count": 20,
   "metadata": {},
   "outputs": [
    {
     "name": "stdout",
     "output_type": "stream",
     "text": [
      "7706\n",
      "1760\n",
      "5345\n"
     ]
    }
   ],
   "source": [
    "# shows count distribution in valid folder\n",
    "for i in range(1,4):\n",
    "    print(len(os.listdir('valid/{}'.format(str(i)))))"
   ]
  },
  {
   "cell_type": "code",
   "execution_count": null,
   "metadata": {},
   "outputs": [],
   "source": []
  },
  {
   "cell_type": "code",
   "execution_count": null,
   "metadata": {},
   "outputs": [],
   "source": []
  },
  {
   "cell_type": "code",
   "execution_count": null,
   "metadata": {},
   "outputs": [],
   "source": []
  }
 ],
 "metadata": {
  "kernelspec": {
   "display_name": "Python 3",
   "language": "python",
   "name": "python3"
  },
  "language_info": {
   "codemirror_mode": {
    "name": "ipython",
    "version": 3
   },
   "file_extension": ".py",
   "mimetype": "text/x-python",
   "name": "python",
   "nbconvert_exporter": "python",
   "pygments_lexer": "ipython3",
   "version": "3.7.0"
  }
 },
 "nbformat": 4,
 "nbformat_minor": 2
}
